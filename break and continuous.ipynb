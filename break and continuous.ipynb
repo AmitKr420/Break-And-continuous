{
 "cells": [
  {
   "cell_type": "code",
   "execution_count": 6,
   "id": "fa7a56da-245c-4a56-9cb2-10366c1af919",
   "metadata": {},
   "outputs": [
    {
     "name": "stdout",
     "output_type": "stream",
     "text": [
      "10\n",
      "9\n",
      "8\n",
      "7\n",
      "6\n",
      "5\n"
     ]
    }
   ],
   "source": [
    "#Write a program to print numbers from  to 0, but stop if the number is 5?\n",
    "\n",
    "#Python program that prints numbers from a given starting point down to 0, stopping if the number is 5:\n",
    "\n",
    "def print_numbers(start):\n",
    "    while start >= 0:\n",
    "        print(start)\n",
    "        if start == 5:\n",
    "            break\n",
    "        start -= 1\n",
    "\n",
    "# Example usage:\n",
    "start_number = 10\n",
    "print_numbers(start_number)\n"
   ]
  },
  {
   "cell_type": "code",
   "execution_count": 9,
   "id": "f1fe5a77-8539-4a63-ae9b-74764bfacae5",
   "metadata": {},
   "outputs": [
    {
     "name": "stdout",
     "output_type": "stream",
     "text": [
      "1\n",
      "2\n",
      "3\n",
      "4\n",
      "5\n"
     ]
    }
   ],
   "source": [
    "#Write a program to iterate through a list and stop when encountering a specific element?\n",
    "\n",
    "#Python program that iterates through a list and stops when encountering a specific element:\n",
    "\n",
    "def iterate_until_specific_element(lst, stop_element):\n",
    "    for item in lst:\n",
    "        print(item)\n",
    "        if item == stop_element:\n",
    "            break\n",
    "\n",
    "# Example usage:\n",
    "my_list = [1, 2, 3, 4, 5, 6, 7, 8, 9, 10]\n",
    "stop_element = 5\n",
    "iterate_until_specific_element(my_list, stop_element)\n"
   ]
  },
  {
   "cell_type": "code",
   "execution_count": 10,
   "id": "e35796d7-ad9c-4bb0-91bc-c531eb9c1ac7",
   "metadata": {},
   "outputs": [
    {
     "name": "stdout",
     "output_type": "stream",
     "text": [
      "9\n",
      "7\n",
      "5\n",
      "3\n",
      "1\n"
     ]
    }
   ],
   "source": [
    "#Write a program to skip printing even numbers from  to 0?\n",
    "\n",
    "#Python program that prints numbers from a given starting point down to 0, skipping even numbers:\n",
    "\n",
    "def print_numbers(start):\n",
    "    while start >= 0:\n",
    "        if start % 2 != 0:\n",
    "            print(start)\n",
    "        start -= 1\n",
    "\n",
    "# Example usage:\n",
    "start_number = 10\n",
    "print_numbers(start_number)\n"
   ]
  },
  {
   "cell_type": "code",
   "execution_count": 11,
   "id": "a93e235f-90d3-4dc1-956d-97e93d84853b",
   "metadata": {},
   "outputs": [
    {
     "name": "stdout",
     "output_type": "stream",
     "text": [
      "0\n",
      "1\n",
      "2\n",
      "3\n",
      "4\n",
      "5\n",
      "6\n",
      "7\n",
      "8\n",
      "9\n"
     ]
    }
   ],
   "source": [
    "#Write a program to print numbers from 0 to 9 using range()?\n",
    "\n",
    "#Python program that prints numbers from 0 to 9 using the range() function:\n",
    "\n",
    "for num in range(10):\n",
    "    print(num)\n"
   ]
  },
  {
   "cell_type": "code",
   "execution_count": 5,
   "id": "8f8d57dc-35e7-4b17-aafa-fb54f9f79ad9",
   "metadata": {},
   "outputs": [
    {
     "name": "stdout",
     "output_type": "stream",
     "text": [
      "Multiplication table for 1:\n",
      "1 x 1 = 1\n",
      "1 x 2 = 2\n",
      "1 x 3 = 3\n",
      "1 x 4 = 4\n",
      "1 x 5 = 5\n",
      "1 x 6 = 6\n",
      "1 x 7 = 7\n",
      "1 x 8 = 8\n",
      "1 x 9 = 9\n",
      "1 x 10 = 10\n",
      "\n",
      "Multiplication table for 2:\n",
      "2 x 1 = 2\n",
      "2 x 2 = 4\n",
      "2 x 3 = 6\n",
      "2 x 4 = 8\n",
      "2 x 5 = 10\n",
      "2 x 6 = 12\n",
      "2 x 7 = 14\n",
      "2 x 8 = 16\n",
      "2 x 9 = 18\n",
      "2 x 10 = 20\n",
      "\n",
      "Multiplication table for 3:\n",
      "3 x 1 = 3\n",
      "3 x 2 = 6\n",
      "3 x 3 = 9\n",
      "3 x 4 = 12\n",
      "3 x 5 = 15\n",
      "3 x 6 = 18\n",
      "3 x 7 = 21\n",
      "3 x 8 = 24\n",
      "3 x 9 = 27\n",
      "3 x 10 = 30\n",
      "\n",
      "Multiplication table for 4:\n",
      "4 x 1 = 4\n",
      "4 x 2 = 8\n",
      "4 x 3 = 12\n",
      "4 x 4 = 16\n",
      "4 x 5 = 20\n",
      "4 x 6 = 24\n",
      "4 x 7 = 28\n",
      "4 x 8 = 32\n",
      "4 x 9 = 36\n",
      "4 x 10 = 40\n",
      "\n",
      "Multiplication table for 5:\n",
      "5 x 1 = 5\n",
      "5 x 2 = 10\n",
      "5 x 3 = 15\n",
      "5 x 4 = 20\n",
      "5 x 5 = 25\n",
      "5 x 6 = 30\n",
      "5 x 7 = 35\n",
      "5 x 8 = 40\n",
      "5 x 9 = 45\n",
      "5 x 10 = 50\n",
      "\n"
     ]
    }
   ],
   "source": [
    "#Write a program to print multiplication tables from  to 5, but stop after the first table is printed for each number?\n",
    "\n",
    "#\n",
    "\n",
    "def print_multiplication_tables(up_to):\n",
    "    for i in range(1, up_to + 1):\n",
    "        print(f\"Multiplication table for {i}:\")\n",
    "        for j in range(1, 11):\n",
    "            print(f\"{i} x {j} = {i * j}\")\n",
    "        print()  # Print an empty line after each table\n",
    "\n",
    "# Example usage:\n",
    "print_multiplication_tables(5)\n"
   ]
  },
  {
   "cell_type": "code",
   "execution_count": null,
   "id": "7f8d05fc-c31b-464c-b32b-e1e40d512bcf",
   "metadata": {},
   "outputs": [],
   "source": []
  }
 ],
 "metadata": {
  "kernelspec": {
   "display_name": "Python 3 (ipykernel)",
   "language": "python",
   "name": "python3"
  },
  "language_info": {
   "codemirror_mode": {
    "name": "ipython",
    "version": 3
   },
   "file_extension": ".py",
   "mimetype": "text/x-python",
   "name": "python",
   "nbconvert_exporter": "python",
   "pygments_lexer": "ipython3",
   "version": "3.10.8"
  }
 },
 "nbformat": 4,
 "nbformat_minor": 5
}
